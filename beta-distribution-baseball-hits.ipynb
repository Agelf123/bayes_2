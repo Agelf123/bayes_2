{
 "cells": [
  {
   "cell_type": "markdown",
   "metadata": {},
   "source": [
    "<img src=\"http://imgur.com/1ZcRyrc.png\" style=\"float: left; margin: 20px; height: 55px\">\n",
    "\n",
    "# Bayesian Statistics With Baseball Data: Priors and Posteriors\n",
    "\n",
    "_Authors: Kiefer Katovich (SF), Justin Pounders_\n",
    "\n",
    "---\n",
    "\n",
    "Let’s review the general set up for Bayesian modeling. We have:\n",
    "\n",
    "### $$P\\left(\\text{model}|\\text{data}\\right) = \\frac{P\\left(\\text{data}|\\text{model}\\right)P\\left(\\text{model}\\right)}{P(\\text{data})} $$\n",
    "\n",
    "This is the diachronic interpretation of Bayes' theorem.\n",
    "\n",
    "It can also be written as:\n",
    "\n",
    "### $$\\text{posterior} \\propto \\text{likelihood} \\times \\text{prior}$$\n",
    "\n",
    "Here, the posterior is an update of our prior belief given the data observed."
   ]
  },
  {
   "cell_type": "code",
   "execution_count": 92,
   "metadata": {},
   "outputs": [],
   "source": [
    "# Imports go here.\n",
    "import pandas as pd\n",
    "import matplotlib.pyplot as plt\n",
    "import pymc3 as pm\n",
    "import scipy.stats as stats\n",
    "from scipy.stats import beta\n",
    "import numpy as np\n",
    "import seaborn as sns"
   ]
  },
  {
   "cell_type": "markdown",
   "metadata": {},
   "source": [
    "## Bayesian Analysis of Batting Averages\n",
    "\n",
    "---\n",
    "\n",
    "Load in the simple batting average data for players below. There are just four fields in the data set: the player's name, their times at bat, their hits, and their batting average.\n",
    "\n",
    "> *Note: [This section of the lab is a partial replication of this exercise in R, if you're interested](https://www.r-bloggers.com/understanding-empirical-bayes-estimation-using-baseball-statistics/). Here, we took out the empirical Bayes section because it's not technically a correct interpretation of Bayesian statistical analysis.*"
   ]
  },
  {
   "cell_type": "code",
   "execution_count": 41,
   "metadata": {},
   "outputs": [
    {
     "data": {
      "text/html": [
       "<div>\n",
       "<style scoped>\n",
       "    .dataframe tbody tr th:only-of-type {\n",
       "        vertical-align: middle;\n",
       "    }\n",
       "\n",
       "    .dataframe tbody tr th {\n",
       "        vertical-align: top;\n",
       "    }\n",
       "\n",
       "    .dataframe thead th {\n",
       "        text-align: right;\n",
       "    }\n",
       "</style>\n",
       "<table border=\"1\" class=\"dataframe\">\n",
       "  <thead>\n",
       "    <tr style=\"text-align: right;\">\n",
       "      <th></th>\n",
       "      <th>name</th>\n",
       "      <th>hits</th>\n",
       "      <th>at_bat</th>\n",
       "      <th>average</th>\n",
       "    </tr>\n",
       "  </thead>\n",
       "  <tbody>\n",
       "    <tr>\n",
       "      <th>0</th>\n",
       "      <td>Hank Aaron</td>\n",
       "      <td>3771</td>\n",
       "      <td>12364</td>\n",
       "      <td>0.304998</td>\n",
       "    </tr>\n",
       "    <tr>\n",
       "      <th>1</th>\n",
       "      <td>Tommie Aaron</td>\n",
       "      <td>216</td>\n",
       "      <td>944</td>\n",
       "      <td>0.228814</td>\n",
       "    </tr>\n",
       "    <tr>\n",
       "      <th>2</th>\n",
       "      <td>Andy Abad</td>\n",
       "      <td>2</td>\n",
       "      <td>21</td>\n",
       "      <td>0.095238</td>\n",
       "    </tr>\n",
       "    <tr>\n",
       "      <th>3</th>\n",
       "      <td>John Abadie</td>\n",
       "      <td>11</td>\n",
       "      <td>49</td>\n",
       "      <td>0.224490</td>\n",
       "    </tr>\n",
       "    <tr>\n",
       "      <th>4</th>\n",
       "      <td>Ed Abbaticchio</td>\n",
       "      <td>772</td>\n",
       "      <td>3044</td>\n",
       "      <td>0.253614</td>\n",
       "    </tr>\n",
       "  </tbody>\n",
       "</table>\n",
       "</div>"
      ],
      "text/plain": [
       "             name  hits  at_bat   average\n",
       "0      Hank Aaron  3771   12364  0.304998\n",
       "1    Tommie Aaron   216     944  0.228814\n",
       "2       Andy Abad     2      21  0.095238\n",
       "3     John Abadie    11      49  0.224490\n",
       "4  Ed Abbaticchio   772    3044  0.253614"
      ]
     },
     "execution_count": 41,
     "metadata": {},
     "output_type": "execute_result"
    }
   ],
   "source": [
    "# A:\n",
    "data = pd.read_csv(\"data/career_hits.csv\")\n",
    "data.head()"
   ]
  },
  {
   "cell_type": "markdown",
   "metadata": {},
   "source": [
    "### 1) Find the top and bottom three hitters according to their average.\n",
    "\n",
    "What is wrong with using the average to find the three best and worst hitters?"
   ]
  },
  {
   "cell_type": "code",
   "execution_count": 42,
   "metadata": {},
   "outputs": [
    {
     "data": {
      "text/html": [
       "<div>\n",
       "<style scoped>\n",
       "    .dataframe tbody tr th:only-of-type {\n",
       "        vertical-align: middle;\n",
       "    }\n",
       "\n",
       "    .dataframe tbody tr th {\n",
       "        vertical-align: top;\n",
       "    }\n",
       "\n",
       "    .dataframe thead th {\n",
       "        text-align: right;\n",
       "    }\n",
       "</style>\n",
       "<table border=\"1\" class=\"dataframe\">\n",
       "  <thead>\n",
       "    <tr style=\"text-align: right;\">\n",
       "      <th></th>\n",
       "      <th>name</th>\n",
       "      <th>hits</th>\n",
       "      <th>at_bat</th>\n",
       "      <th>average</th>\n",
       "    </tr>\n",
       "  </thead>\n",
       "  <tbody>\n",
       "    <tr>\n",
       "      <th>5853</th>\n",
       "      <td>John Mohardt</td>\n",
       "      <td>1</td>\n",
       "      <td>1</td>\n",
       "      <td>1.0</td>\n",
       "    </tr>\n",
       "    <tr>\n",
       "      <th>9303</th>\n",
       "      <td>Al Wright</td>\n",
       "      <td>1</td>\n",
       "      <td>1</td>\n",
       "      <td>1.0</td>\n",
       "    </tr>\n",
       "    <tr>\n",
       "      <th>359</th>\n",
       "      <td>Jeff Banister</td>\n",
       "      <td>1</td>\n",
       "      <td>1</td>\n",
       "      <td>1.0</td>\n",
       "    </tr>\n",
       "    <tr>\n",
       "      <th>5440</th>\n",
       "      <td>Sparrow McCaffrey</td>\n",
       "      <td>1</td>\n",
       "      <td>1</td>\n",
       "      <td>1.0</td>\n",
       "    </tr>\n",
       "    <tr>\n",
       "      <th>1126</th>\n",
       "      <td>C. B. Burns</td>\n",
       "      <td>1</td>\n",
       "      <td>1</td>\n",
       "      <td>1.0</td>\n",
       "    </tr>\n",
       "  </tbody>\n",
       "</table>\n",
       "</div>"
      ],
      "text/plain": [
       "                   name  hits  at_bat  average\n",
       "5853       John Mohardt     1       1      1.0\n",
       "9303          Al Wright     1       1      1.0\n",
       "359       Jeff Banister     1       1      1.0\n",
       "5440  Sparrow McCaffrey     1       1      1.0\n",
       "1126        C. B. Burns     1       1      1.0"
      ]
     },
     "execution_count": 42,
     "metadata": {},
     "output_type": "execute_result"
    }
   ],
   "source": [
    "# A:\n",
    "data.sort_values(by='average' , ascending=False).head()"
   ]
  },
  {
   "cell_type": "markdown",
   "metadata": {},
   "source": [
    "It doesn't taken account number of at-bats. So a person could have 1 at bat and got a hit, that doesnt make them the best hitter in baseball."
   ]
  },
  {
   "cell_type": "markdown",
   "metadata": {},
   "source": [
    "### 2) Set up a prior distribution to represent our belief about batting average.\n",
    "\n",
    "[After doing a quick search online](https://www.google.com/search?q=average+batting+average+for+players+mlb&oq=average+batting+average+for+players+mlb&aqs=chrome..69i57j0.7373j0j4&sourceid=chrome&ie=UTF-8), it looks like the overall batting average for MLB baseball players is around 0.260.\n",
    "\n",
    "Let's make it simple and say that our prior belief is that, out of 100 at-bats, we’ve seen 26 hits. Set up a beta distribution with `alpha=26` and `beta=74`. Plot it with the function from above.\n",
    "\n",
    "**Take a look at the beta distribution's mean and variance to justify to yourself that these hyperparamters make sense!**\n",
    "\n",
    "This is our distribution of beliefs on the batting average (probability of hitting while at bat) for MLB players."
   ]
  },
  {
   "cell_type": "code",
   "execution_count": 43,
   "metadata": {},
   "outputs": [],
   "source": [
    "# A:\n",
    "def plot_beta(a, b):\n",
    "    plt.figure(figsize = (12,9))\n",
    "    # Generate 100 x values in the appropriate\n",
    "    # range to use for plotting:\n",
    "    x = np.linspace(0, 1, 100)\n",
    "    # Generate line plot.\n",
    "    plt.plot(x, beta(a,b).pdf(x),\n",
    "            'b', lw=2)\n",
    "    # Plot customization:\n",
    "    plt.ylabel('Density', fontsize = 18)\n",
    "    plt.xlim((0,1))\n",
    "    plt.yticks([])\n",
    "    plt.xlabel(r'Values of $p$', fontsize = 18)\n",
    "    plt.title(fr'Beta($a={a}$, $b={b}$)', fontsize = 24);"
   ]
  },
  {
   "cell_type": "code",
   "execution_count": 44,
   "metadata": {},
   "outputs": [
    {
     "data": {
      "image/png": "[encoded data removed]",
      "text/plain": [
       "<Figure size 864x648 with 1 Axes>"
      ]
     },
     "metadata": {
      "needs_background": "light"
     },
     "output_type": "display_data"
    }
   ],
   "source": [
    "plot_beta(26,74)"
   ]
  },
  {
   "cell_type": "code",
   "execution_count": 45,
   "metadata": {},
   "outputs": [
    {
     "data": {
      "text/plain": [
       "0.26"
      ]
     },
     "execution_count": 45,
     "metadata": {},
     "output_type": "execute_result"
    }
   ],
   "source": [
    "prior_beta = stats.beta(26, 74)\n",
    "prior_beta.mean()"
   ]
  },
  {
   "cell_type": "markdown",
   "metadata": {},
   "source": [
    "The mean batting average for all players is confirmed to be .260 when we take the mean of the whole distribution for possible values of batting averages"
   ]
  },
  {
   "cell_type": "code",
   "execution_count": 46,
   "metadata": {},
   "outputs": [
    {
     "data": {
      "text/plain": [
       "0.043645738566892245"
      ]
     },
     "execution_count": 46,
     "metadata": {},
     "output_type": "execute_result"
    }
   ],
   "source": [
    "prior_beta = stats.beta(26, 74)\n",
    "prior_beta.std()"
   ]
  },
  {
   "cell_type": "markdown",
   "metadata": {},
   "source": [
    "We can expect the majority of batting averages to fall between 2.1 and .2.9 aprox. That would be all the averages within one std of the mean batting average. The curve is narrow and that confirms this."
   ]
  },
  {
   "cell_type": "markdown",
   "metadata": {},
   "source": [
    "### 3) Calculate the maximum a posteriori (MAP) estimate of players' batting averages.\n",
    "\n",
    "The maximum a posteriori (MAP) estimate is the mode of a posterior distribution for a statistical parameter.\n",
    "\n",
    "In our case, the MAP estimate for our players' batting averages will be the mode of the posterior beta distribution we get from updating our prior distribution with their at bats and hits.\n",
    "\n",
    "---\n",
    "\n",
    "> *Note: For an additional overview of the math behind updating the beta distribution posterior and conjugate priors, ([check out this website](https://alexanderetz.com/2015/07/25/understanding-bayes-updating-priors-via-the-likelihood/)).*\n",
    "\n",
    "We need to update our beta distribution’s prior belief about batting averages with a player's at-bat and hit information to get a _new_ beta posterior distribution for that player's batting average. \n",
    "\n",
    "Luckily, with the beta distribution, the update is just a matter of adding in our new observations to the alpha and beta parameters, where alpha is the number of hits and beta is the number of misses/strikes:\n",
    "\n",
    "    observed_hits = n_hits\n",
    "    observed_misses = n_misses\n",
    "    beta_prior = Beta(prior_hits+1, prior_misses+1)\n",
    "    beta_posterior = Beta(prior_hits + n_nits + 1, prior_misses + n_misses + 1)\n",
    "    \n",
    "> **Note:** This process will also be useful in the context of A/B testing, which we’ll look at later on.\n",
    "\n",
    "For each player, update the prior to the posterior distribution and calculate the mode of the distribution. The mode of a beta distribution is conveniently defined as:\n",
    "\n",
    "### $$ \\frac{\\alpha - 1}{\\alpha + \\beta -2} $$\n",
    "\n",
    "Which means we don't even need to use SciPy's beta distribution function. Just calculate the new alpha and beta for each player's posterior beta distribution and plug them into the formula above to get the MAP estimate of batting the average."
   ]
  },
  {
   "cell_type": "code",
   "execution_count": 65,
   "metadata": {},
   "outputs": [],
   "source": [
    "data['observed_hits'] = data['hits']\n",
    "data['observed_misses'] = data['at_bat'] - data['hits']\n",
    "data['alpha'] = (26 + data['observed_hits']+ 1)\n",
    "data['beta'] =  (74 + data['observed_misses'] +1)\n",
    "data['MAP'] = (data['alpha']-1) / (data['alpha']+data['beta']-2)"
   ]
  },
  {
   "cell_type": "code",
   "execution_count": 63,
   "metadata": {},
   "outputs": [
    {
     "data": {
      "text/plain": [
       "13032057"
      ]
     },
     "execution_count": 63,
     "metadata": {},
     "output_type": "execute_result"
    }
   ],
   "source": []
  },
  {
   "cell_type": "markdown",
   "metadata": {},
   "source": [
    "### 4) Look up the top and bottom batters according to the MAP estimate."
   ]
  },
  {
   "cell_type": "code",
   "execution_count": 87,
   "metadata": {},
   "outputs": [
    {
     "data": {
      "text/html": [
       "<div>\n",
       "<style scoped>\n",
       "    .dataframe tbody tr th:only-of-type {\n",
       "        vertical-align: middle;\n",
       "    }\n",
       "\n",
       "    .dataframe tbody tr th {\n",
       "        vertical-align: top;\n",
       "    }\n",
       "\n",
       "    .dataframe thead th {\n",
       "        text-align: right;\n",
       "    }\n",
       "</style>\n",
       "<table border=\"1\" class=\"dataframe\">\n",
       "  <thead>\n",
       "    <tr style=\"text-align: right;\">\n",
       "      <th></th>\n",
       "      <th>name</th>\n",
       "      <th>hits</th>\n",
       "      <th>at_bat</th>\n",
       "      <th>average</th>\n",
       "      <th>observed_hits</th>\n",
       "      <th>observed_misses</th>\n",
       "      <th>alpha_posterior</th>\n",
       "      <th>beta_posterior</th>\n",
       "      <th>alpha</th>\n",
       "      <th>beta</th>\n",
       "      <th>MAP</th>\n",
       "    </tr>\n",
       "  </thead>\n",
       "  <tbody>\n",
       "    <tr>\n",
       "      <th>4031</th>\n",
       "      <td>John Humphries</td>\n",
       "      <td>52</td>\n",
       "      <td>364</td>\n",
       "      <td>0.142857</td>\n",
       "      <td>52</td>\n",
       "      <td>312</td>\n",
       "      <td>79</td>\n",
       "      <td>387</td>\n",
       "      <td>79</td>\n",
       "      <td>387</td>\n",
       "      <td>0.168103</td>\n",
       "    </tr>\n",
       "    <tr>\n",
       "      <th>4322</th>\n",
       "      <td>Mike Jordan</td>\n",
       "      <td>12</td>\n",
       "      <td>125</td>\n",
       "      <td>0.096000</td>\n",
       "      <td>12</td>\n",
       "      <td>113</td>\n",
       "      <td>39</td>\n",
       "      <td>188</td>\n",
       "      <td>39</td>\n",
       "      <td>188</td>\n",
       "      <td>0.168889</td>\n",
       "    </tr>\n",
       "    <tr>\n",
       "      <th>2987</th>\n",
       "      <td>Ed Gastfield</td>\n",
       "      <td>6</td>\n",
       "      <td>88</td>\n",
       "      <td>0.068182</td>\n",
       "      <td>6</td>\n",
       "      <td>82</td>\n",
       "      <td>33</td>\n",
       "      <td>157</td>\n",
       "      <td>33</td>\n",
       "      <td>157</td>\n",
       "      <td>0.170213</td>\n",
       "    </tr>\n",
       "  </tbody>\n",
       "</table>\n",
       "</div>"
      ],
      "text/plain": [
       "                name  hits  at_bat   average  observed_hits  observed_misses  \\\n",
       "4031  John Humphries    52     364  0.142857             52              312   \n",
       "4322     Mike Jordan    12     125  0.096000             12              113   \n",
       "2987    Ed Gastfield     6      88  0.068182              6               82   \n",
       "\n",
       "      alpha_posterior  beta_posterior  alpha  beta       MAP  \n",
       "4031               79             387     79   387  0.168103  \n",
       "4322               39             188     39   188  0.168889  \n",
       "2987               33             157     33   157  0.170213  "
      ]
     },
     "execution_count": 87,
     "metadata": {},
     "output_type": "execute_result"
    }
   ],
   "source": [
    "# A:\n",
    "data.sort_values(by = ['MAP'], ascending = [True]).head(3)"
   ]
  },
  {
   "cell_type": "markdown",
   "metadata": {},
   "source": [
    "- Top Players = Roger Hornsby, Joe Jackson, Ed Delahanty.\n",
    "- Worst Players = John Humphries, Mike Jordan, Ed Gastfield"
   ]
  },
  {
   "cell_type": "markdown",
   "metadata": {},
   "source": [
    "### 5) Plot the MLE batting average against the MAP batting average."
   ]
  },
  {
   "cell_type": "code",
   "execution_count": 93,
   "metadata": {},
   "outputs": [
    {
     "data": {
      "image/png": "[encoded data removed]",
      "text/plain": [
       "<Figure size 576x432 with 1 Axes>"
      ]
     },
     "metadata": {
      "needs_background": "light"
     },
     "output_type": "display_data"
    }
   ],
   "source": [
    "# adapted from https://towardsdatascience.com/histograms-and-density-plots-in-python-f6bda88f5ac0\n",
    "# List of averages to plot\n",
    "averages = ['average', 'MAP']\n",
    "plt.figure(figsize=(8,6))\n",
    "\n",
    "for average in averages:\n",
    "    # Draw the density plot\n",
    "    sns.distplot(data[average], hist = False, kde = True,\n",
    "                 kde_kws = {'linewidth': 3},\n",
    "                 label = average,\n",
    "                )\n",
    "# Plot formatting\n",
    "plt.legend(prop={'size': 10}, title = 'Average')\n",
    "plt.title('Density Plot with MLB and MAP Averages')\n",
    "plt.xlabel('Batting Average')\n",
    "plt.ylabel('Density');"
   ]
  },
  {
   "cell_type": "code",
   "execution_count": null,
   "metadata": {},
   "outputs": [],
   "source": []
  }
 ],
 "metadata": {
  "kernelspec": {
   "display_name": "Python 3",
   "language": "python",
   "name": "python3"
  },
  "language_info": {
   "codemirror_mode": {
    "name": "ipython",
    "version": 3
   },
   "file_extension": ".py",
   "mimetype": "text/x-python",
   "name": "python",
   "nbconvert_exporter": "python",
   "pygments_lexer": "ipython3",
   "version": "3.7.4"
  }
 },
 "nbformat": 4,
 "nbformat_minor": 1
}
